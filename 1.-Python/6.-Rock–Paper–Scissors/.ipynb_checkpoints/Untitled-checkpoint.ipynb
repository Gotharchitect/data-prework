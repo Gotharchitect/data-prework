{
 "cells": [
  {
   "cell_type": "code",
   "execution_count": 41,
   "metadata": {},
   "outputs": [
    {
     "name": "stdout",
     "output_type": "stream",
     "text": [
      "Enter a number: 3\n",
      "3 is an odd number so we are OK define it as the number of rounds.\n",
      "The winner will need  2  victories to win the best of  3  rounds.\n",
      "The computer chose:  paper\n",
      "rock, paper or scissors?rock\n",
      "User played  rock\n"
     ]
    }
   ],
   "source": [
    "from random import choice\n",
    "\n",
    "gestures = ['rock', 'paper', 'scissors']\n",
    "\n",
    "n_rounds = int(input(\"Enter a number: \"))\n",
    "remain = n_rounds % 2\n",
    "while remain == 0:\n",
    "    print(\"This is an even number and we can not play with it, choose another\")\n",
    "    n_rounds = int(input(\"Enter a number: \"))\n",
    "    remain = n_rounds % 2\n",
    "else:\n",
    "    print(n_rounds, \"is an odd number so we are OK define it as the number of rounds.\")\n",
    "    \n",
    "    \n",
    "rounds_to_win = int(((n_rounds)/2)+1) #need to win one more\n",
    "print (\"The winner will need \", rounds_to_win, \" victories to win the best of \", n_rounds, \" rounds.\")\n",
    "cpu_score = 0\n",
    "player_score = 0\n",
    "\n",
    "def cpu_input():\n",
    "    return choice(gestures)\n",
    "print (\"The computer chose: \", choice(gestures))\n",
    "\n",
    "def user_input(i):\n",
    "    return i\n",
    "i = input('rock, paper or scissors?')\n",
    "print (\"User played \", i)\n",
    "    \n",
    "def winner():\n",
    "    if user_input == 'rock' and cpu_input== 'scissors':\n",
    "        player_score += 1\n",
    "        return 2 and print (\"User wins a round\")\n",
    "    elif user_input == 'rock' and cpu_input== 'paper':\n",
    "        cpu_score += 1\n",
    "        return 1 and print (\"Computer wins a round\")\n",
    "    elif user_input == 'scissors' and cpu_input== 'rock':\n",
    "        cpu_score += 1\n",
    "        return 1 and print (\"Computer wins a round\")\n",
    "    elif user_input == 'scsissors' and cpu_input== 'paper':\n",
    "        player_score += 1\n",
    "        return 1 and print (\"User wins a round\")\n",
    "    elif user_input == 'paper' and cpu_input== 'rock':\n",
    "        player_score += 1\n",
    "        return 1 and print (\"User wins a round\")\n",
    "    elif user_input == 'paper' and cpu_input== 'scissors':\n",
    "        cpu_score += 1\n",
    "        return 1 and print (\"Computer wins a round\")\n",
    "    else:\n",
    "        return 0 and print (\"This round is a draw\")\n",
    "\n",
    "#def playRPS():\n",
    "    #beats = {'rock' : 'scissors', 'scissors' : 'paper','paper': 'rock'}\n",
    "    #computerHand = beats[choice(['rock','paper','scissors'])]\n",
    "    #playerHand = input('Choose Rock, Paper, Scissors: \n",
    "\n",
    "#ROCK BLUNTS SCISSORS\n",
    "#SCISSORS CUTS PAPER\n",
    "#PAPER COVERS ROCK\n",
    "#IF PLAYERS CHOOSE THE SAME HAND THEN IT'S DRAW"
   ]
  },
  {
   "cell_type": "code",
   "execution_count": null,
   "metadata": {},
   "outputs": [],
   "source": []
  },
  {
   "cell_type": "markdown",
   "metadata": {},
   "source": []
  }
 ],
 "metadata": {
  "kernelspec": {
   "display_name": "Python 3",
   "language": "python",
   "name": "python3"
  },
  "language_info": {
   "codemirror_mode": {
    "name": "ipython",
    "version": 3
   },
   "file_extension": ".py",
   "mimetype": "text/x-python",
   "name": "python",
   "nbconvert_exporter": "python",
   "pygments_lexer": "ipython3",
   "version": "3.7.5"
  }
 },
 "nbformat": 4,
 "nbformat_minor": 2
}
